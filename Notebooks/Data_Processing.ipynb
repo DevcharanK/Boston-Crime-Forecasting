{
 "cells": [
  {
   "cell_type": "markdown",
   "metadata": {},
   "source": [
    "## Boston Crime - Analyze Boston"
   ]
  },
  {
   "cell_type": "code",
   "execution_count": 1,
   "metadata": {},
   "outputs": [],
   "source": [
    "import pandas as pd\n",
    "import numpy as np \n",
    "import matplotlib.pyplot as plt\n",
    "import seaborn as sns"
   ]
  },
  {
   "cell_type": "code",
   "execution_count": 2,
   "metadata": {},
   "outputs": [
    {
     "name": "stderr",
     "output_type": "stream",
     "text": [
      "C:\\Users\\devch\\AppData\\Local\\Temp\\ipykernel_17356\\1001015110.py:1: DtypeWarning: Columns (0) have mixed types. Specify dtype option on import or set low_memory=False.\n",
      "  df23 = pd.read_csv(r'D:/UMassD Files/MTH 522/Project 3/tmpfqngu121.csv')\n",
      "C:\\Users\\devch\\AppData\\Local\\Temp\\ipykernel_17356\\1001015110.py:2: DtypeWarning: Columns (0) have mixed types. Specify dtype option on import or set low_memory=False.\n",
      "  df22 = pd.read_csv(r'D:/UMassD Files/MTH 522/Project 3/tmpdfeo3qy2.csv')\n",
      "C:\\Users\\devch\\AppData\\Local\\Temp\\ipykernel_17356\\1001015110.py:3: DtypeWarning: Columns (0) have mixed types. Specify dtype option on import or set low_memory=False.\n",
      "  df21 = pd.read_csv(r'D:/UMassD Files/MTH 522/Project 3/tmpfap3hfze.csv')\n",
      "C:\\Users\\devch\\AppData\\Local\\Temp\\ipykernel_17356\\1001015110.py:4: DtypeWarning: Columns (0) have mixed types. Specify dtype option on import or set low_memory=False.\n",
      "  df20 = pd.read_csv(r'D:/UMassD Files/MTH 522/Project 3/tmpkd_w64k_.csv')\n",
      "C:\\Users\\devch\\AppData\\Local\\Temp\\ipykernel_17356\\1001015110.py:5: DtypeWarning: Columns (0) have mixed types. Specify dtype option on import or set low_memory=False.\n",
      "  df19 = pd.read_csv(r'D:/UMassD Files/MTH 522/Project 3/tmp6w6ts2d7.csv')\n"
     ]
    }
   ],
   "source": [
    "df23 = pd.read_csv(r'D:/UMassD Files/MTH 522/Project 3/tmpfqngu121.csv')\n",
    "df22 = pd.read_csv(r'D:/UMassD Files/MTH 522/Project 3/tmpdfeo3qy2.csv')\n",
    "df21 = pd.read_csv(r'D:/UMassD Files/MTH 522/Project 3/tmpfap3hfze.csv')\n",
    "df20 = pd.read_csv(r'D:/UMassD Files/MTH 522/Project 3/tmpkd_w64k_.csv')\n",
    "df19 = pd.read_csv(r'D:/UMassD Files/MTH 522/Project 3/tmp6w6ts2d7.csv')\n",
    "df18 = pd.read_csv(r'D:/UMassD Files/MTH 522/Project 3/tmpf_uzkqpk.csv')\n",
    "df17 = pd.read_csv(r'D:/UMassD Files/MTH 522/Project 3/tmp3apxsafn.csv')\n",
    "df16 = pd.read_csv(r'D:/UMassD Files/MTH 522/Project 3/tmp3ochjtdc.csv')\n",
    "df15 = pd.read_csv(r'D:/UMassD Files/MTH 522/Project 3/tmpzr3l5bxw.csv')"
   ]
  },
  {
   "cell_type": "code",
   "execution_count": 3,
   "metadata": {},
   "outputs": [
    {
     "name": "stdout",
     "output_type": "stream",
     "text": [
      "<class 'pandas.core.frame.DataFrame'>\n",
      "RangeIndex: 723617 entries, 0 to 723616\n",
      "Data columns (total 17 columns):\n",
      " #   Column               Non-Null Count   Dtype  \n",
      "---  ------               --------------   -----  \n",
      " 0   INCIDENT_NUMBER      723617 non-null  object \n",
      " 1   OFFENSE_CODE         723617 non-null  int64  \n",
      " 2   OFFENSE_CODE_GROUP   353253 non-null  object \n",
      " 3   OFFENSE_DESCRIPTION  723617 non-null  object \n",
      " 4   DISTRICT             719137 non-null  object \n",
      " 5   REPORTING_AREA       723617 non-null  object \n",
      " 6   SHOOTING             371819 non-null  object \n",
      " 7   OCCURRED_ON_DATE     723617 non-null  object \n",
      " 8   YEAR                 723617 non-null  int64  \n",
      " 9   MONTH                723617 non-null  int64  \n",
      " 10  DAY_OF_WEEK          723617 non-null  object \n",
      " 11  HOUR                 723617 non-null  int64  \n",
      " 12  UCR_PART             353156 non-null  object \n",
      " 13  STREET               711729 non-null  object \n",
      " 14  Lat                  682816 non-null  float64\n",
      " 15  Long                 682816 non-null  float64\n",
      " 16  Location             682816 non-null  object \n",
      "dtypes: float64(2), int64(4), object(11)\n",
      "memory usage: 93.9+ MB\n"
     ]
    }
   ],
   "source": [
    "combined_df = pd.concat([df15,df16,df17,df18,df19, df20, df21, df22,df23], ignore_index=True)\n",
    "combined_df.info()"
   ]
  },
  {
   "cell_type": "code",
   "execution_count": 4,
   "metadata": {},
   "outputs": [
    {
     "name": "stdout",
     "output_type": "stream",
     "text": [
      "<class 'pandas.core.frame.DataFrame'>\n",
      "RangeIndex: 723617 entries, 0 to 723616\n",
      "Data columns (total 15 columns):\n",
      " #   Column               Non-Null Count   Dtype  \n",
      "---  ------               --------------   -----  \n",
      " 0   INCIDENT_NUMBER      723617 non-null  object \n",
      " 1   OFFENSE_CODE         723617 non-null  int64  \n",
      " 2   OFFENSE_DESCRIPTION  723617 non-null  object \n",
      " 3   DISTRICT             719137 non-null  object \n",
      " 4   REPORTING_AREA       723617 non-null  object \n",
      " 5   SHOOTING             371819 non-null  object \n",
      " 6   OCCURRED_ON_DATE     723617 non-null  object \n",
      " 7   YEAR                 723617 non-null  int64  \n",
      " 8   MONTH                723617 non-null  int64  \n",
      " 9   DAY_OF_WEEK          723617 non-null  object \n",
      " 10  HOUR                 723617 non-null  int64  \n",
      " 11  STREET               711729 non-null  object \n",
      " 12  Lat                  682816 non-null  float64\n",
      " 13  Long                 682816 non-null  float64\n",
      " 14  Location             682816 non-null  object \n",
      "dtypes: float64(2), int64(4), object(9)\n",
      "memory usage: 82.8+ MB\n"
     ]
    }
   ],
   "source": [
    "combined_df.drop(['OFFENSE_CODE_GROUP','UCR_PART'], axis=1, inplace=True)\n",
    "combined_df.info()"
   ]
  },
  {
   "cell_type": "code",
   "execution_count": 5,
   "metadata": {},
   "outputs": [
    {
     "data": {
      "text/plain": [
       "OFFENSE_DESCRIPTION\n",
       "SICK/INJURED/MEDICAL - PERSON            20965\n",
       "INVESTIGATE PERSON                       20413\n",
       "M/V - LEAVING SCENE - PROPERTY DAMAGE    17957\n",
       "VANDALISM                                16555\n",
       "ASSAULT SIMPLE - BATTERY                 16342\n",
       "                                         ...  \n",
       "FRAUD - FALSE PRETENSE                       1\n",
       "FIREARM/WEAPON - CARRY - SELL - RENT         1\n",
       "KILLING OF FELON BY POLICE                   1\n",
       "B&E RESIDENCE DAY - NO FORCE                 1\n",
       "ROBBERY - KNIFE - STREET                     1\n",
       "Name: count, Length: 244, dtype: int64"
      ]
     },
     "execution_count": 5,
     "metadata": {},
     "output_type": "execute_result"
    }
   ],
   "source": [
    "combined_df.loc[combined_df['SHOOTING'].isnull()]['OFFENSE_DESCRIPTION'].value_counts()"
   ]
  },
  {
   "cell_type": "code",
   "execution_count": 6,
   "metadata": {},
   "outputs": [],
   "source": [
    "df = pd.DataFrame\n",
    "\n",
    "codes = [111, 123, 121, 244, 241, 243, 251, 261, 252, 253, 271, 254, 242,\n",
    "         \n",
    "         901,902,905,907,920,930,801,802, 423, 413,\n",
    "\n",
    "         301, 301, 303, 304, 305,306, 307, 308, 309, 310, 311,312,313,314,315,316,317,318,319,320,321,322,323,324,333,334,335,336,337,\n",
    "          338,339,340,341,342,343,344,345,346,347,348,349,350,352,353,354,355,356,357,358,359,360,361,362,363,364,373,374,375,376,377,\n",
    "          378,379,380, 351, 361, 371, 381, 541, 540, 562, 561, 542, 521, 520, 522, 560,612,613,615, 617,614,618,616,\n",
    "\n",
    "          1874,1842,1841,1849,1848,1858,1855,1864,1863,1866,1868,1843,3023,3021,1875,3022,1847,1840,1873,1848,1850,\n",
    "             \n",
    "          3801, 3802,3803,3810,3807,3805,1402,1415]\n",
    "\n",
    "df = combined_df[combined_df['OFFENSE_CODE'].isin(codes)].copy()\n",
    "\n"
   ]
  },
  {
   "cell_type": "markdown",
   "metadata": {},
   "source": [
    "Tier List\n",
    "\n",
    "**Tier 1:** Violent crimes - Murder, Manslaughter, Rape, \n",
    "\n",
    "Related Codes - 111, 123, 121, 244, 241, 243, 251, 261, 252, 253, 271, 254, 242, \n",
    "\n",
    "**Tier 2 :** Arson (900-930), Aggravated Assault/ Battery (401-433)\n",
    "\n",
    "Related codes - 900-930; 401-433 ; 802, 423, 413, 801\n",
    "\n",
    "**Tier 3:** Non violent crimes - Larceny, Robbery (301-380), burglary, B&E - (510 - 547)\n",
    "\n",
    "Related codes - 612,613,615, 617,614,618,616; 301, 311, 351, 361, 371, 381; 541, 540, 562, 561, 542, 521, 520, 522, 560; \n",
    "\n",
    "**Tier Drugs:** 1874,1842,1841,1849,1848,1858,1855,1864,1863,1866,1868,1843,3023,3021,1875,3022,1847,1840,1873,1848,1850\n",
    "\n",
    "**Tier 4:** Vandalism (1402, 1415), Vehicular Accidents -  3801, 3802,3803,3810,3807,3805"
   ]
  },
  {
   "cell_type": "code",
   "execution_count": 7,
   "metadata": {},
   "outputs": [
    {
     "name": "stdout",
     "output_type": "stream",
     "text": [
      "<class 'pandas.core.frame.DataFrame'>\n",
      "Index: 232624 entries, 9 to 723614\n",
      "Data columns (total 16 columns):\n",
      " #   Column               Non-Null Count   Dtype  \n",
      "---  ------               --------------   -----  \n",
      " 0   INCIDENT_NUMBER      232624 non-null  object \n",
      " 1   OFFENSE_CODE         232624 non-null  int64  \n",
      " 2   OFFENSE_DESCRIPTION  232624 non-null  object \n",
      " 3   DISTRICT             231114 non-null  object \n",
      " 4   REPORTING_AREA       232624 non-null  object \n",
      " 5   SHOOTING             113672 non-null  object \n",
      " 6   OCCURRED_ON_DATE     232624 non-null  object \n",
      " 7   YEAR                 232624 non-null  int64  \n",
      " 8   MONTH                232624 non-null  int64  \n",
      " 9   DAY_OF_WEEK          232624 non-null  object \n",
      " 10  HOUR                 232624 non-null  int64  \n",
      " 11  STREET               227799 non-null  object \n",
      " 12  Lat                  218209 non-null  float64\n",
      " 13  Long                 218209 non-null  float64\n",
      " 14  Location             218209 non-null  object \n",
      " 15  Tier                 232624 non-null  object \n",
      "dtypes: float64(2), int64(4), object(10)\n",
      "memory usage: 30.2+ MB\n"
     ]
    }
   ],
   "source": [
    "tier1 = [111, 123, 121, 244, 241, 243, 251, 261, 252, 253, 271, 254, 242]\n",
    "tier2 = [901,902,905,907,920,930,801,802, 423, 413]\n",
    "tier3 =[301, 301, 303, 304, 305,306, 307, 308, 309, 310, 311,312,313,314,315,316,317,318,319,320,\n",
    "        321,322, 323,324,333,334,335,336,337,338,339,340,341,342,343,344,345,346,347,348,349,350,\n",
    "        352,353,354,355,356,357,358,359,360,361,362,363,364,373,374,375,376,377,378,379,380, 351,\n",
    "        361,371,381,541, 540, 562, 561, 542, 521, 520, 522, 560,612,613,615, 617,614,618,616]\n",
    "tierd = [1874,1842,1841,1849,1848,1858,1855,1864,1863,1866,1868,1843,3023,3021,1875,3022,1847,\n",
    "         1840,1873,1848,1850]\n",
    "tier4 = [3801, 3802,3803,3810,3807,3805,1402,1415]\n",
    "\n",
    "conditions = [df['OFFENSE_CODE'].isin(tier1),\n",
    "              df['OFFENSE_CODE'].isin(tier2),\n",
    "              df['OFFENSE_CODE'].isin(tier3),\n",
    "              df['OFFENSE_CODE'].isin(tierd),\n",
    "              df['OFFENSE_CODE'].isin(tier4)]\n",
    "vals = ['Tier 1', 'Tier 2', 'Tier 3', 'Tier Drugs', 'Tier 4']\n",
    "\n",
    "df['Tier'] = np.select(conditions, vals, default = 'Other')"
   ]
  },
  {
   "cell_type": "code",
   "execution_count": 8,
   "metadata": {},
   "outputs": [
    {
     "data": {
      "text/plain": [
       "Tier\n",
       "Tier 3        46524\n",
       "Tier 4        35731\n",
       "Tier 2        25492\n",
       "Tier Drugs    11153\n",
       "Tier 1           52\n",
       "Name: count, dtype: int64"
      ]
     },
     "execution_count": 8,
     "metadata": {},
     "output_type": "execute_result"
    }
   ],
   "source": [
    "df.loc[df['SHOOTING'].isnull()]['Tier'].value_counts()"
   ]
  },
  {
   "cell_type": "code",
   "execution_count": 9,
   "metadata": {},
   "outputs": [
    {
     "name": "stderr",
     "output_type": "stream",
     "text": [
      "C:\\Users\\devch\\AppData\\Local\\Temp\\ipykernel_17356\\3940179601.py:2: SettingWithCopyWarning: \n",
      "A value is trying to be set on a copy of a slice from a DataFrame\n",
      "\n",
      "See the caveats in the documentation: https://pandas.pydata.org/pandas-docs/stable/user_guide/indexing.html#returning-a-view-versus-a-copy\n",
      "  subset['SHOOTING'].fillna(0,inplace=True)\n"
     ]
    }
   ],
   "source": [
    "subset = df.loc[(df['Tier']=='Tier 3') | (df['Tier']=='Tier Drugs') | (df['Tier']=='Tier 4')]\n",
    "subset['SHOOTING'].fillna(0,inplace=True)\n",
    "df.update(subset)"
   ]
  },
  {
   "cell_type": "code",
   "execution_count": 10,
   "metadata": {},
   "outputs": [],
   "source": [
    "df['SHOOTING'].fillna(0,inplace=True)"
   ]
  },
  {
   "cell_type": "code",
   "execution_count": 11,
   "metadata": {},
   "outputs": [],
   "source": [
    "df2 = pd.DataFrame(data = df)"
   ]
  },
  {
   "cell_type": "code",
   "execution_count": 12,
   "metadata": {},
   "outputs": [],
   "source": [
    "df2.to_csv('NewData.csv', index=False)"
   ]
  },
  {
   "cell_type": "code",
   "execution_count": 13,
   "metadata": {},
   "outputs": [
    {
     "name": "stdout",
     "output_type": "stream",
     "text": [
      "<class 'pandas.core.frame.DataFrame'>\n",
      "Index: 216538 entries, 9 to 723614\n",
      "Data columns (total 16 columns):\n",
      " #   Column               Non-Null Count   Dtype  \n",
      "---  ------               --------------   -----  \n",
      " 0   INCIDENT_NUMBER      216538 non-null  object \n",
      " 1   OFFENSE_CODE         216538 non-null  int64  \n",
      " 2   OFFENSE_DESCRIPTION  216538 non-null  object \n",
      " 3   DISTRICT             216538 non-null  object \n",
      " 4   REPORTING_AREA       216538 non-null  object \n",
      " 5   SHOOTING             216538 non-null  object \n",
      " 6   OCCURRED_ON_DATE     216538 non-null  object \n",
      " 7   YEAR                 216538 non-null  int64  \n",
      " 8   MONTH                216538 non-null  int64  \n",
      " 9   DAY_OF_WEEK          216538 non-null  object \n",
      " 10  HOUR                 216538 non-null  int64  \n",
      " 11  STREET               216538 non-null  object \n",
      " 12  Lat                  216538 non-null  float64\n",
      " 13  Long                 216538 non-null  float64\n",
      " 14  Location             216538 non-null  object \n",
      " 15  Tier                 216538 non-null  object \n",
      "dtypes: float64(2), int64(4), object(10)\n",
      "memory usage: 28.1+ MB\n"
     ]
    }
   ],
   "source": [
    "df.dropna(inplace=True)\n",
    "df.info()"
   ]
  },
  {
   "cell_type": "markdown",
   "metadata": {},
   "source": [
    "### Tier List\n",
    "\n",
    "**Tier 1:** Violent crimes - Murder, Manslaughter, Rape, \n",
    "\n",
    "Related Codes - 111, 123, 121, 244, 241, 243, 251, 261, 252, 253, 271, 254, 242, \n",
    "\n",
    "**Tier 2 :** Arson (900-930), Aggravated Assault/ Battery (401-433)\n",
    "\n",
    "Related codes - 900-930; 401-433 ; 802, 423, 413, 801\n",
    "\n",
    "**Tier 3:** Non violent crimes - Larceny, Robbery (301-380), burglary, B&E - (510 - 547)\n",
    "\n",
    "Related codes - 612,613,615, 617,614,618,616; 301, 311, 351, 361, 371, 381; 541, 540, 562, 561, 542, 521, 520, 522, 560; \n",
    "\n",
    "**Tier Drugs:** 1874,1842,1841,1849,1848,1858,1855,1864,1863,1866,1868,1843,3023,3021,1875,3022,1847,1840,1873,1848,1850\n",
    "\n",
    "**Tier 4:** Vandalism (1402, 1415), Vehicular Accidents -  3801, 3802,3803,3810,3807,3805"
   ]
  },
  {
   "cell_type": "code",
   "execution_count": 14,
   "metadata": {},
   "outputs": [
    {
     "name": "stdout",
     "output_type": "stream",
     "text": [
      "<class 'pandas.core.frame.DataFrame'>\n",
      "Index: 216538 entries, 9 to 723614\n",
      "Data columns (total 16 columns):\n",
      " #   Column               Non-Null Count   Dtype  \n",
      "---  ------               --------------   -----  \n",
      " 0   INCIDENT_NUMBER      216538 non-null  object \n",
      " 1   OFFENSE_CODE         216538 non-null  int64  \n",
      " 2   OFFENSE_DESCRIPTION  216538 non-null  object \n",
      " 3   DISTRICT             216538 non-null  object \n",
      " 4   REPORTING_AREA       216538 non-null  object \n",
      " 5   SHOOTING             216538 non-null  object \n",
      " 6   OCCURRED_ON_DATE     216538 non-null  object \n",
      " 7   YEAR                 216538 non-null  int64  \n",
      " 8   MONTH                216538 non-null  int64  \n",
      " 9   DAY_OF_WEEK          216538 non-null  object \n",
      " 10  HOUR                 216538 non-null  int64  \n",
      " 11  STREET               216538 non-null  object \n",
      " 12  Lat                  216538 non-null  float64\n",
      " 13  Long                 216538 non-null  float64\n",
      " 14  Location             216538 non-null  object \n",
      " 15  Tier                 216538 non-null  object \n",
      "dtypes: float64(2), int64(4), object(10)\n",
      "memory usage: 28.1+ MB\n"
     ]
    }
   ],
   "source": [
    "df.info()"
   ]
  },
  {
   "cell_type": "code",
   "execution_count": 15,
   "metadata": {},
   "outputs": [
    {
     "data": {
      "text/plain": [
       "Index(['INCIDENT_NUMBER', 'OFFENSE_CODE', 'OFFENSE_DESCRIPTION', 'DISTRICT',\n",
       "       'REPORTING_AREA', 'SHOOTING', 'OCCURRED_ON_DATE', 'YEAR', 'MONTH',\n",
       "       'DAY_OF_WEEK', 'HOUR', 'STREET', 'Lat', 'Long', 'Location', 'Tier'],\n",
       "      dtype='object')"
      ]
     },
     "execution_count": 15,
     "metadata": {},
     "output_type": "execute_result"
    }
   ],
   "source": [
    "df.columns"
   ]
  },
  {
   "cell_type": "code",
   "execution_count": 16,
   "metadata": {},
   "outputs": [],
   "source": [
    "df['REPORTING_AREA'] = pd.to_numeric(df['REPORTING_AREA'], errors = 'coerce')"
   ]
  },
  {
   "cell_type": "code",
   "execution_count": 17,
   "metadata": {},
   "outputs": [
    {
     "data": {
      "text/html": [
       "<div>\n",
       "<style scoped>\n",
       "    .dataframe tbody tr th:only-of-type {\n",
       "        vertical-align: middle;\n",
       "    }\n",
       "\n",
       "    .dataframe tbody tr th {\n",
       "        vertical-align: top;\n",
       "    }\n",
       "\n",
       "    .dataframe thead th {\n",
       "        text-align: right;\n",
       "    }\n",
       "</style>\n",
       "<table border=\"1\" class=\"dataframe\">\n",
       "  <thead>\n",
       "    <tr style=\"text-align: right;\">\n",
       "      <th></th>\n",
       "      <th>INCIDENT_NUMBER</th>\n",
       "      <th>OFFENSE_CODE</th>\n",
       "      <th>OFFENSE_DESCRIPTION</th>\n",
       "      <th>DISTRICT</th>\n",
       "      <th>REPORTING_AREA</th>\n",
       "      <th>SHOOTING</th>\n",
       "      <th>OCCURRED_ON_DATE</th>\n",
       "      <th>YEAR</th>\n",
       "      <th>MONTH</th>\n",
       "      <th>DAY_OF_WEEK</th>\n",
       "      <th>HOUR</th>\n",
       "      <th>STREET</th>\n",
       "      <th>Lat</th>\n",
       "      <th>Long</th>\n",
       "      <th>Location</th>\n",
       "      <th>Tier</th>\n",
       "    </tr>\n",
       "  </thead>\n",
       "  <tbody>\n",
       "    <tr>\n",
       "      <th>9</th>\n",
       "      <td>I152049588</td>\n",
       "      <td>614</td>\n",
       "      <td>LARCENY THEFT FROM MV - NON-ACCESSORY</td>\n",
       "      <td>D4</td>\n",
       "      <td>155.0</td>\n",
       "      <td>0</td>\n",
       "      <td>2015-06-15 00:01:00</td>\n",
       "      <td>2015</td>\n",
       "      <td>6</td>\n",
       "      <td>Monday</td>\n",
       "      <td>0</td>\n",
       "      <td>CONCORD SQ</td>\n",
       "      <td>42.341384</td>\n",
       "      <td>-71.078989</td>\n",
       "      <td>(42.34138415, -71.07898883)</td>\n",
       "      <td>Tier 3</td>\n",
       "    </tr>\n",
       "    <tr>\n",
       "      <th>10</th>\n",
       "      <td>I152049593</td>\n",
       "      <td>1874</td>\n",
       "      <td>DRUGS - OTHER</td>\n",
       "      <td>C11</td>\n",
       "      <td>289.0</td>\n",
       "      <td>0</td>\n",
       "      <td>2015-06-15 00:01:00</td>\n",
       "      <td>2015</td>\n",
       "      <td>6</td>\n",
       "      <td>Monday</td>\n",
       "      <td>0</td>\n",
       "      <td>HANCOCK ST</td>\n",
       "      <td>42.310434</td>\n",
       "      <td>-71.061340</td>\n",
       "      <td>(42.31043400, -71.06134010)</td>\n",
       "      <td>Tier Drugs</td>\n",
       "    </tr>\n",
       "    <tr>\n",
       "      <th>11</th>\n",
       "      <td>I152049594</td>\n",
       "      <td>1874</td>\n",
       "      <td>DRUGS - OTHER</td>\n",
       "      <td>C11</td>\n",
       "      <td>289.0</td>\n",
       "      <td>0</td>\n",
       "      <td>2015-06-15 00:01:00</td>\n",
       "      <td>2015</td>\n",
       "      <td>6</td>\n",
       "      <td>Monday</td>\n",
       "      <td>0</td>\n",
       "      <td>HANCOCK ST</td>\n",
       "      <td>42.310434</td>\n",
       "      <td>-71.061340</td>\n",
       "      <td>(42.31043400, -71.06134010)</td>\n",
       "      <td>Tier Drugs</td>\n",
       "    </tr>\n",
       "    <tr>\n",
       "      <th>12</th>\n",
       "      <td>I152049463</td>\n",
       "      <td>1402</td>\n",
       "      <td>VANDALISM</td>\n",
       "      <td>E18</td>\n",
       "      <td>493.0</td>\n",
       "      <td>0</td>\n",
       "      <td>2015-06-15 00:03:00</td>\n",
       "      <td>2015</td>\n",
       "      <td>6</td>\n",
       "      <td>Monday</td>\n",
       "      <td>0</td>\n",
       "      <td>LEXINGTON AVE</td>\n",
       "      <td>42.262551</td>\n",
       "      <td>-71.115822</td>\n",
       "      <td>(42.26255067, -71.11582205)</td>\n",
       "      <td>Tier 4</td>\n",
       "    </tr>\n",
       "    <tr>\n",
       "      <th>13</th>\n",
       "      <td>I152049469</td>\n",
       "      <td>802</td>\n",
       "      <td>ASSAULT SIMPLE - BATTERY</td>\n",
       "      <td>D14</td>\n",
       "      <td>809.0</td>\n",
       "      <td>0</td>\n",
       "      <td>2015-06-15 00:45:00</td>\n",
       "      <td>2015</td>\n",
       "      <td>6</td>\n",
       "      <td>Monday</td>\n",
       "      <td>0</td>\n",
       "      <td>BAGNAL ST</td>\n",
       "      <td>42.359569</td>\n",
       "      <td>-71.135982</td>\n",
       "      <td>(42.35956890, -71.13598188)</td>\n",
       "      <td>Tier 2</td>\n",
       "    </tr>\n",
       "  </tbody>\n",
       "</table>\n",
       "</div>"
      ],
      "text/plain": [
       "   INCIDENT_NUMBER  OFFENSE_CODE                    OFFENSE_DESCRIPTION  \\\n",
       "9       I152049588           614  LARCENY THEFT FROM MV - NON-ACCESSORY   \n",
       "10      I152049593          1874                          DRUGS - OTHER   \n",
       "11      I152049594          1874                          DRUGS - OTHER   \n",
       "12      I152049463          1402                              VANDALISM   \n",
       "13      I152049469           802               ASSAULT SIMPLE - BATTERY   \n",
       "\n",
       "   DISTRICT  REPORTING_AREA SHOOTING     OCCURRED_ON_DATE  YEAR  MONTH  \\\n",
       "9        D4           155.0        0  2015-06-15 00:01:00  2015      6   \n",
       "10      C11           289.0        0  2015-06-15 00:01:00  2015      6   \n",
       "11      C11           289.0        0  2015-06-15 00:01:00  2015      6   \n",
       "12      E18           493.0        0  2015-06-15 00:03:00  2015      6   \n",
       "13      D14           809.0        0  2015-06-15 00:45:00  2015      6   \n",
       "\n",
       "   DAY_OF_WEEK  HOUR         STREET        Lat       Long  \\\n",
       "9       Monday     0     CONCORD SQ  42.341384 -71.078989   \n",
       "10      Monday     0     HANCOCK ST  42.310434 -71.061340   \n",
       "11      Monday     0     HANCOCK ST  42.310434 -71.061340   \n",
       "12      Monday     0  LEXINGTON AVE  42.262551 -71.115822   \n",
       "13      Monday     0      BAGNAL ST  42.359569 -71.135982   \n",
       "\n",
       "                       Location        Tier  \n",
       "9   (42.34138415, -71.07898883)      Tier 3  \n",
       "10  (42.31043400, -71.06134010)  Tier Drugs  \n",
       "11  (42.31043400, -71.06134010)  Tier Drugs  \n",
       "12  (42.26255067, -71.11582205)      Tier 4  \n",
       "13  (42.35956890, -71.13598188)      Tier 2  "
      ]
     },
     "execution_count": 17,
     "metadata": {},
     "output_type": "execute_result"
    }
   ],
   "source": [
    "df.head()"
   ]
  },
  {
   "cell_type": "code",
   "execution_count": 21,
   "metadata": {},
   "outputs": [
    {
     "name": "stderr",
     "output_type": "stream",
     "text": [
      "C:\\Users\\devch\\AppData\\Local\\Temp\\ipykernel_17356\\3212493464.py:1: FutureWarning: In a future version of pandas, parsing datetimes with mixed time zones will raise a warning unless `utc=True`. Please specify `utc=True` to opt in to the new behaviour and silence this warning. To create a `Series` with mixed offsets and `object` dtype, please use `apply` and `datetime.datetime.strptime`\n",
      "  df['OCCURRED_ON_DATE'] = pd.to_datetime(df['OCCURRED_ON_DATE'],format = 'ISO8601')\n"
     ]
    }
   ],
   "source": [
    "df['OCCURRED_ON_DATE'] = pd.to_datetime(df['OCCURRED_ON_DATE'],format = 'ISO8601')"
   ]
  },
  {
   "cell_type": "code",
   "execution_count": 26,
   "metadata": {},
   "outputs": [
    {
     "data": {
      "text/plain": [
       "YEAR\n",
       "2016    30787\n",
       "2017    30241\n",
       "2018    29870\n",
       "2019    27060\n",
       "2020    21451\n",
       "2021    20346\n",
       "2022    20310\n",
       "2015    18830\n",
       "2023    17643\n",
       "Name: count, dtype: int64"
      ]
     },
     "execution_count": 26,
     "metadata": {},
     "output_type": "execute_result"
    }
   ],
   "source": [
    "df['YEAR'].value_counts()"
   ]
  },
  {
   "cell_type": "code",
   "execution_count": 22,
   "metadata": {},
   "outputs": [
    {
     "data": {
      "text/html": [
       "<div>\n",
       "<style scoped>\n",
       "    .dataframe tbody tr th:only-of-type {\n",
       "        vertical-align: middle;\n",
       "    }\n",
       "\n",
       "    .dataframe tbody tr th {\n",
       "        vertical-align: top;\n",
       "    }\n",
       "\n",
       "    .dataframe thead th {\n",
       "        text-align: right;\n",
       "    }\n",
       "</style>\n",
       "<table border=\"1\" class=\"dataframe\">\n",
       "  <thead>\n",
       "    <tr style=\"text-align: right;\">\n",
       "      <th></th>\n",
       "      <th>INCIDENT_NUMBER</th>\n",
       "      <th>OFFENSE_CODE</th>\n",
       "      <th>OFFENSE_DESCRIPTION</th>\n",
       "      <th>DISTRICT</th>\n",
       "      <th>REPORTING_AREA</th>\n",
       "      <th>SHOOTING</th>\n",
       "      <th>OCCURRED_ON_DATE</th>\n",
       "      <th>YEAR</th>\n",
       "      <th>MONTH</th>\n",
       "      <th>DAY_OF_WEEK</th>\n",
       "      <th>HOUR</th>\n",
       "      <th>STREET</th>\n",
       "      <th>Lat</th>\n",
       "      <th>Long</th>\n",
       "      <th>Location</th>\n",
       "      <th>Tier</th>\n",
       "    </tr>\n",
       "  </thead>\n",
       "  <tbody>\n",
       "    <tr>\n",
       "      <th>9</th>\n",
       "      <td>I152049588</td>\n",
       "      <td>614</td>\n",
       "      <td>LARCENY THEFT FROM MV - NON-ACCESSORY</td>\n",
       "      <td>D4</td>\n",
       "      <td>155.0</td>\n",
       "      <td>0</td>\n",
       "      <td>2015-06-15 00:01:00</td>\n",
       "      <td>2015</td>\n",
       "      <td>6</td>\n",
       "      <td>Monday</td>\n",
       "      <td>0</td>\n",
       "      <td>CONCORD SQ</td>\n",
       "      <td>42.341384</td>\n",
       "      <td>-71.078989</td>\n",
       "      <td>(42.34138415, -71.07898883)</td>\n",
       "      <td>Tier 3</td>\n",
       "    </tr>\n",
       "    <tr>\n",
       "      <th>10</th>\n",
       "      <td>I152049593</td>\n",
       "      <td>1874</td>\n",
       "      <td>DRUGS - OTHER</td>\n",
       "      <td>C11</td>\n",
       "      <td>289.0</td>\n",
       "      <td>0</td>\n",
       "      <td>2015-06-15 00:01:00</td>\n",
       "      <td>2015</td>\n",
       "      <td>6</td>\n",
       "      <td>Monday</td>\n",
       "      <td>0</td>\n",
       "      <td>HANCOCK ST</td>\n",
       "      <td>42.310434</td>\n",
       "      <td>-71.061340</td>\n",
       "      <td>(42.31043400, -71.06134010)</td>\n",
       "      <td>Tier Drugs</td>\n",
       "    </tr>\n",
       "    <tr>\n",
       "      <th>11</th>\n",
       "      <td>I152049594</td>\n",
       "      <td>1874</td>\n",
       "      <td>DRUGS - OTHER</td>\n",
       "      <td>C11</td>\n",
       "      <td>289.0</td>\n",
       "      <td>0</td>\n",
       "      <td>2015-06-15 00:01:00</td>\n",
       "      <td>2015</td>\n",
       "      <td>6</td>\n",
       "      <td>Monday</td>\n",
       "      <td>0</td>\n",
       "      <td>HANCOCK ST</td>\n",
       "      <td>42.310434</td>\n",
       "      <td>-71.061340</td>\n",
       "      <td>(42.31043400, -71.06134010)</td>\n",
       "      <td>Tier Drugs</td>\n",
       "    </tr>\n",
       "    <tr>\n",
       "      <th>12</th>\n",
       "      <td>I152049463</td>\n",
       "      <td>1402</td>\n",
       "      <td>VANDALISM</td>\n",
       "      <td>E18</td>\n",
       "      <td>493.0</td>\n",
       "      <td>0</td>\n",
       "      <td>2015-06-15 00:03:00</td>\n",
       "      <td>2015</td>\n",
       "      <td>6</td>\n",
       "      <td>Monday</td>\n",
       "      <td>0</td>\n",
       "      <td>LEXINGTON AVE</td>\n",
       "      <td>42.262551</td>\n",
       "      <td>-71.115822</td>\n",
       "      <td>(42.26255067, -71.11582205)</td>\n",
       "      <td>Tier 4</td>\n",
       "    </tr>\n",
       "    <tr>\n",
       "      <th>13</th>\n",
       "      <td>I152049469</td>\n",
       "      <td>802</td>\n",
       "      <td>ASSAULT SIMPLE - BATTERY</td>\n",
       "      <td>D14</td>\n",
       "      <td>809.0</td>\n",
       "      <td>0</td>\n",
       "      <td>2015-06-15 00:45:00</td>\n",
       "      <td>2015</td>\n",
       "      <td>6</td>\n",
       "      <td>Monday</td>\n",
       "      <td>0</td>\n",
       "      <td>BAGNAL ST</td>\n",
       "      <td>42.359569</td>\n",
       "      <td>-71.135982</td>\n",
       "      <td>(42.35956890, -71.13598188)</td>\n",
       "      <td>Tier 2</td>\n",
       "    </tr>\n",
       "  </tbody>\n",
       "</table>\n",
       "</div>"
      ],
      "text/plain": [
       "   INCIDENT_NUMBER  OFFENSE_CODE                    OFFENSE_DESCRIPTION  \\\n",
       "9       I152049588           614  LARCENY THEFT FROM MV - NON-ACCESSORY   \n",
       "10      I152049593          1874                          DRUGS - OTHER   \n",
       "11      I152049594          1874                          DRUGS - OTHER   \n",
       "12      I152049463          1402                              VANDALISM   \n",
       "13      I152049469           802               ASSAULT SIMPLE - BATTERY   \n",
       "\n",
       "   DISTRICT  REPORTING_AREA SHOOTING     OCCURRED_ON_DATE  YEAR  MONTH  \\\n",
       "9        D4           155.0        0  2015-06-15 00:01:00  2015      6   \n",
       "10      C11           289.0        0  2015-06-15 00:01:00  2015      6   \n",
       "11      C11           289.0        0  2015-06-15 00:01:00  2015      6   \n",
       "12      E18           493.0        0  2015-06-15 00:03:00  2015      6   \n",
       "13      D14           809.0        0  2015-06-15 00:45:00  2015      6   \n",
       "\n",
       "   DAY_OF_WEEK  HOUR         STREET        Lat       Long  \\\n",
       "9       Monday     0     CONCORD SQ  42.341384 -71.078989   \n",
       "10      Monday     0     HANCOCK ST  42.310434 -71.061340   \n",
       "11      Monday     0     HANCOCK ST  42.310434 -71.061340   \n",
       "12      Monday     0  LEXINGTON AVE  42.262551 -71.115822   \n",
       "13      Monday     0      BAGNAL ST  42.359569 -71.135982   \n",
       "\n",
       "                       Location        Tier  \n",
       "9   (42.34138415, -71.07898883)      Tier 3  \n",
       "10  (42.31043400, -71.06134010)  Tier Drugs  \n",
       "11  (42.31043400, -71.06134010)  Tier Drugs  \n",
       "12  (42.26255067, -71.11582205)      Tier 4  \n",
       "13  (42.35956890, -71.13598188)      Tier 2  "
      ]
     },
     "execution_count": 22,
     "metadata": {},
     "output_type": "execute_result"
    }
   ],
   "source": [
    "df.head()"
   ]
  },
  {
   "cell_type": "code",
   "execution_count": 25,
   "metadata": {},
   "outputs": [],
   "source": [
    "df.to_csv('Processed_data.csv', index=False)"
   ]
  },
  {
   "cell_type": "code",
   "execution_count": 23,
   "metadata": {},
   "outputs": [
    {
     "data": {
      "text/plain": [
       "STREET\n",
       "WASHINGTON ST                                           13644\n",
       "BOYLSTON ST                                              6576\n",
       "BLUE HILL AVE                                            5901\n",
       "HARRISON AVE                                             4505\n",
       "DORCHESTER AVE                                           3858\n",
       "                                                        ...  \n",
       "BRADLEE LN                                                  1\n",
       "HARRISON AVE & WARREN PL\\nROXBURY  MA 02119\\nUNITED         1\n",
       "95 WOODBOLE AVE\\nMATTAPAN  MA 02126\\nUNITED STATES          1\n",
       "SOUTHAMPTON ST & DORCHESTER ST\\nBOSTON  MA 02127\\nUN        1\n",
       "CENTRAL ST & INDIA ST\\nBOSTON  MA 02109\\nUNITED STAT        1\n",
       "Name: count, Length: 9905, dtype: int64"
      ]
     },
     "execution_count": 23,
     "metadata": {},
     "output_type": "execute_result"
    }
   ],
   "source": [
    "df['STREET'].value_counts()"
   ]
  },
  {
   "cell_type": "code",
   "execution_count": 24,
   "metadata": {},
   "outputs": [
    {
     "data": {
      "text/plain": [
       "DAY_OF_WEEK\n",
       "Friday       32568\n",
       "Saturday     31771\n",
       "Wednesday    31057\n",
       "Thursday     30610\n",
       "Tuesday      30484\n",
       "Monday       30412\n",
       "Sunday       29636\n",
       "Name: count, dtype: int64"
      ]
     },
     "execution_count": 24,
     "metadata": {},
     "output_type": "execute_result"
    }
   ],
   "source": [
    "df['DAY_OF_WEEK'].value_counts()"
   ]
  },
  {
   "cell_type": "code",
   "execution_count": 27,
   "metadata": {},
   "outputs": [
    {
     "data": {
      "text/plain": [
       "OFFENSE_DESCRIPTION\n",
       "VANDALISM                                          30806\n",
       "LARCENY SHOPLIFTING                                19577\n",
       "ASSAULT SIMPLE - BATTERY                           19036\n",
       "LARCENY THEFT FROM MV - NON-ACCESSORY              19004\n",
       "LARCENY THEFT FROM BUILDING                        18511\n",
       "                                                   ...  \n",
       "DRUGS - POSS CLASS D - MARIJUANA, ETC.                 2\n",
       "MANSLAUGHTER - NON-VEHICLE - NEGLIGENCE                1\n",
       "ROBBERY - KNIFE - STREET                               1\n",
       "B&E RESIDENCE DAY - NO FORCE                           1\n",
       "ASSAULT & BATTERY D/W - OTHER ON POLICE OFFICER        1\n",
       "Name: count, Length: 69, dtype: int64"
      ]
     },
     "execution_count": 27,
     "metadata": {},
     "output_type": "execute_result"
    }
   ],
   "source": [
    "df['OFFENSE_DESCRIPTION'].value_counts()"
   ]
  }
 ],
 "metadata": {
  "kernelspec": {
   "display_name": "Python 3",
   "language": "python",
   "name": "python3"
  },
  "language_info": {
   "codemirror_mode": {
    "name": "ipython",
    "version": 3
   },
   "file_extension": ".py",
   "mimetype": "text/x-python",
   "name": "python",
   "nbconvert_exporter": "python",
   "pygments_lexer": "ipython3",
   "version": "3.11.5"
  }
 },
 "nbformat": 4,
 "nbformat_minor": 2
}
